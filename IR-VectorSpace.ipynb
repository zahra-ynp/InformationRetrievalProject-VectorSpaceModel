{
 "cells": [
  {
   "cell_type": "code",
   "execution_count": 6,
   "id": "d87d0425",
   "metadata": {},
   "outputs": [],
   "source": [
    "def import_dataset(filepath):\n",
    "\n",
    "    \"\"\"\n",
    "    Parses the Cranfield dataset from the given file.\n",
    "\n",
    "    This function reads the file, identifies the documents based on the '.I' marker,\n",
    "    and extracts text from the '.T' (Title) and '.W' (Words) fields.\n",
    "    \n",
    "    Returns:\n",
    "         A list of strings, where each string is the raw, unprocessed text of a document.\n",
    "    \"\"\"\n",
    "\n",
    "    # Initialize an empty list to hold the raw text of all documents.\n",
    "    documents_raw = []\n",
    "\n",
    "    # A variable to hold the text of the current document being processed.\n",
    "    current_text = \"\"\n",
    "    \n",
    "    # A boolean flag to track if the current line is part of a text field (.T or .W).\n",
    "    is_text_section = False\n",
    "\n",
    "    with open(filepath, 'r') as f:\n",
    "        # Iterate through each line in the file.\n",
    "        for line in f:\n",
    "            # A line starting with '.I' marks the beginning of a new document.\n",
    "            if line.startswith('.I'):\n",
    "                # If 'current_text' is not empty, it means we have finished reading a document.\n",
    "                if current_text:\n",
    "                    # Append the complete text of the previous document to our list.\n",
    "                    documents_raw.append(current_text.strip())\n",
    "                \n",
    "                # Reset 'current_text' to start for the new document.\n",
    "                current_text = \"\"\n",
    "                # Reset the flag, as we don't know what the next section will be.\n",
    "                is_text_section = False\n",
    "\n",
    "            # If a line starts with '.T' or '.W', it's a section we want to capture.\n",
    "            elif line.startswith(('.T', '.W')):\n",
    "                # Set our flag to True to start accumulating text from this and subsequent lines.\n",
    "                is_text_section = True\n",
    "            \n",
    "            # If a line starts with '.A' or '.B', it's metadata we want to ignore.\n",
    "            elif line.startswith(('.A', '.B')):\n",
    "                # Set our flag to False to stop accumulating text until we see a new .T or .W.\n",
    "                is_text_section = False\n",
    "                \n",
    "            # If the line doesn't start with a marker AND our flag is True...\n",
    "            elif is_text_section:\n",
    "                # ...it's a continuation of a title or abstract, so append it.\n",
    "                # We add a space to ensure words from different lines are not merged together.\n",
    "                current_text += line.strip() + \" \"\n",
    "\n",
    "    # After the loop finishes, the last document's text is still held in 'current_text'.\n",
    "    # This final check ensures the very last document in the file is added to the list.\n",
    "    if current_text:\n",
    "        documents_raw.append(current_text.strip())\n",
    "\n",
    "    # A confirmation message for loading\n",
    "    print(f\"Successfully loaded {len(documents_raw)} raw documents.\")\n",
    "    \n",
    "    # Return the final list\n",
    "    return documents_raw"
   ]
  },
  {
   "cell_type": "code",
   "execution_count": 7,
   "id": "eae641e0",
   "metadata": {},
   "outputs": [
    {
     "name": "stdout",
     "output_type": "stream",
     "text": [
      "Successfully loaded 1398 raw documents.\n"
     ]
    }
   ],
   "source": [
    "articles = import_dataset('./Dataset/cran.all.1400')"
   ]
  }
 ],
 "metadata": {
  "kernelspec": {
   "display_name": "Python 3",
   "language": "python",
   "name": "python3"
  },
  "language_info": {
   "codemirror_mode": {
    "name": "ipython",
    "version": 3
   },
   "file_extension": ".py",
   "mimetype": "text/x-python",
   "name": "python",
   "nbconvert_exporter": "python",
   "pygments_lexer": "ipython3",
   "version": "3.12.6"
  }
 },
 "nbformat": 4,
 "nbformat_minor": 5
}
